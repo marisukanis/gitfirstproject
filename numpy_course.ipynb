{
  "nbformat": 4,
  "nbformat_minor": 0,
  "metadata": {
    "colab": {
      "provenance": [],
      "authorship_tag": "ABX9TyOhBuekXj6pRirTW5C/5uxW",
      "include_colab_link": true
    },
    "kernelspec": {
      "name": "python3",
      "display_name": "Python 3"
    },
    "language_info": {
      "name": "python"
    }
  },
  "cells": [
    {
      "cell_type": "markdown",
      "metadata": {
        "id": "view-in-github",
        "colab_type": "text"
      },
      "source": [
        "<a href=\"https://colab.research.google.com/github/marisukanis/gitfirstproject/blob/pythonproject1/numpy_course.ipynb\" target=\"_parent\"><img src=\"https://colab.research.google.com/assets/colab-badge.svg\" alt=\"Open In Colab\"/></a>"
      ]
    },
    {
      "cell_type": "code",
      "execution_count": null,
      "metadata": {
        "id": "ASsygJZXLKj7"
      },
      "outputs": [],
      "source": [
        "import numpy as np\n"
      ]
    },
    {
      "cell_type": "code",
      "source": [
        "#2x3 matrix (2 rows and 3 columns)\n",
        "B = np.array ([[3,7,4], [9,3,5]])\n",
        "B"
      ],
      "metadata": {
        "colab": {
          "base_uri": "https://localhost:8080/"
        },
        "id": "qaaSci7RN2Z5",
        "outputId": "6ee96f84-d787-4c1a-a5e0-e0dc16daf3f2"
      },
      "execution_count": null,
      "outputs": [
        {
          "output_type": "execute_result",
          "data": {
            "text/plain": [
              "array([[3, 7, 4],\n",
              "       [9, 3, 5]])"
            ]
          },
          "metadata": {},
          "execution_count": 2
        }
      ]
    },
    {
      "cell_type": "code",
      "source": [
        "B.shape\n"
      ],
      "metadata": {
        "colab": {
          "base_uri": "https://localhost:8080/"
        },
        "id": "mFaCs-CoOBK9",
        "outputId": "50ff49c1-0e10-4e8d-eb05-3419949d9394"
      },
      "execution_count": null,
      "outputs": [
        {
          "output_type": "execute_result",
          "data": {
            "text/plain": [
              "(2, 3)"
            ]
          },
          "metadata": {},
          "execution_count": 3
        }
      ]
    },
    {
      "cell_type": "code",
      "source": [
        "#Matrix creation using np. arange()\n",
        "C = np.arange(2,8,0.5)\n",
        "C"
      ],
      "metadata": {
        "colab": {
          "base_uri": "https://localhost:8080/"
        },
        "id": "bqh1mVqoOX2y",
        "outputId": "cee4becc-a788-402b-f378-d5e1553bdcca"
      },
      "execution_count": null,
      "outputs": [
        {
          "output_type": "execute_result",
          "data": {
            "text/plain": [
              "array([2. , 2.5, 3. , 3.5, 4. , 4.5, 5. , 5.5, 6. , 6.5, 7. , 7.5])"
            ]
          },
          "metadata": {},
          "execution_count": 5
        }
      ]
    },
    {
      "cell_type": "code",
      "source": [
        "#using np.linspace(start, end, count) - (0,1,5) - 5 numbers from 0 to 1 at equal distances\n",
        "D = np.linspace(2,8,100)\n",
        "D"
      ],
      "metadata": {
        "id": "tGXYL1rvOnd-"
      },
      "execution_count": null,
      "outputs": []
    },
    {
      "cell_type": "code",
      "source": [
        "matrix1 = np.array([[1, 4, 7], [2, 5, 8], [3, 6, 9]])\n",
        "matrix2 = np.array([[3, 2, 3], [4, 3, 1], [7, 3, 1]])\n",
        "print(matrix1, '\\n', '\\n', matrix2)\n",
        "print(matrix1.shape)"
      ],
      "metadata": {
        "colab": {
          "base_uri": "https://localhost:8080/"
        },
        "id": "RbOvktBX2dj5",
        "outputId": "9b2ffe27-5d75-432e-fc33-400d4bde6dfa"
      },
      "execution_count": 12,
      "outputs": [
        {
          "output_type": "stream",
          "name": "stdout",
          "text": [
            "[[1 4 7]\n",
            " [2 5 8]\n",
            " [3 6 9]] \n",
            " \n",
            " [[3 2 3]\n",
            " [4 3 1]\n",
            " [7 3 1]]\n",
            "(3, 3)\n"
          ]
        }
      ]
    },
    {
      "cell_type": "code",
      "source": [
        "matrix1.T"
      ],
      "metadata": {
        "colab": {
          "base_uri": "https://localhost:8080/"
        },
        "id": "ntmLV1Q-jEeZ",
        "outputId": "f68f59f4-71c0-4808-c29c-17afb3d9fa2e"
      },
      "execution_count": 14,
      "outputs": [
        {
          "output_type": "execute_result",
          "data": {
            "text/plain": [
              "array([[1, 2, 3],\n",
              "       [4, 5, 6],\n",
              "       [7, 8, 9]])"
            ]
          },
          "metadata": {},
          "execution_count": 14
        }
      ]
    }
  ]
}