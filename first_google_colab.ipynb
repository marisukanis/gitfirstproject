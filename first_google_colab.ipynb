{
  "nbformat": 4,
  "nbformat_minor": 0,
  "metadata": {
    "colab": {
      "name": "first_google_colab.ipynb",
      "provenance": [],
      "authorship_tag": "ABX9TyO66DaMqJQxXzpdAGnmQL2s",
      "include_colab_link": true
    },
    "kernelspec": {
      "name": "python3",
      "display_name": "Python 3"
    },
    "language_info": {
      "name": "python"
    }
  },
  "cells": [
    {
      "cell_type": "markdown",
      "metadata": {
        "id": "view-in-github",
        "colab_type": "text"
      },
      "source": [
        "<a href=\"https://colab.research.google.com/github/marisukanis/gitfirstproject/blob/pythoncourse070822/first_google_colab.ipynb\" target=\"_parent\"><img src=\"https://colab.research.google.com/assets/colab-badge.svg\" alt=\"Open In Colab\"/></a>"
      ]
    },
    {
      "cell_type": "code",
      "execution_count": 107,
      "metadata": {
        "id": "ws2iAwwEysv9"
      },
      "outputs": [],
      "source": [
        "import time"
      ]
    },
    {
      "cell_type": "markdown",
      "source": [
        "Question 1 - Python time countdown"
      ],
      "metadata": {
        "id": "chOa_3Vpy2gm"
      }
    },
    {
      "cell_type": "code",
      "source": [
        "def time_countdown(time_seconds: int) -> None:\n",
        "  while time_seconds:\n",
        "    minutes, seconds = divmod(time_seconds, 60)\n",
        "    formatted_time = '{:02d}:{:02d}'.format(minutes, seconds)\n",
        "    print(formatted_time)\n",
        "    time.sleep(1)\n",
        "    time_seconds -= 1\n"
      ],
      "metadata": {
        "id": "06wS89Qdy8w8"
      },
      "execution_count": 108,
      "outputs": []
    },
    {
      "cell_type": "code",
      "source": [
        "time_countdown(10)"
      ],
      "metadata": {
        "id": "Mw8Aku962wHi"
      },
      "execution_count": null,
      "outputs": []
    },
    {
      "cell_type": "markdown",
      "source": [
        "Question 2 - Shuffle a card\n",
        "\n",
        "deck of cards = 52\n",
        "suits = heart, clubs, spade, diamonds\n",
        "values = A,2,3,4,5,6,7,8,9,10,j,k,Q"
      ],
      "metadata": {
        "id": "01WcG-99z755"
      }
    },
    {
      "cell_type": "code",
      "source": [
        "from itertools import product\n",
        "from random import shuffle, choice\n",
        "\n",
        "class Card:\n",
        "  def __init__(self):\n",
        "    self.suites = ['heart', 'club', 'spade', 'diamond']\n",
        "    self.values = ['A', '2', '3', '4', '5', '6', '7', '8', '9', '10', 'J', 'K', 'Q']\n",
        "    self.__deckset = []\n",
        "\n",
        "  def deck_set(self):\n",
        "    for item in self.suites:\n",
        "      for val in self.values:\n",
        "        self.__deckset.append(f'{val} of {item}')\n",
        "  \n",
        "  def deck_set_iter(self):\n",
        "    return list(product(self.suites, self.values))\n",
        "\n",
        "  def get_deck_of_cards(self):\n",
        "    return self.__deckset\n",
        "\n",
        "  def shuffle_deckset(self):\n",
        "    shuffle(self.__deckset)"
      ],
      "metadata": {
        "id": "FC3vFrRz0VOS"
      },
      "execution_count": 110,
      "outputs": []
    },
    {
      "cell_type": "code",
      "source": [
        "card = Card()\n",
        "card.deck_set()\n",
        "card.shuffle_deckset()\n",
        "card.get_deck_of_cards()"
      ],
      "metadata": {
        "id": "cXj031i04-4G"
      },
      "execution_count": null,
      "outputs": []
    },
    {
      "cell_type": "code",
      "source": [
        "cards = card.deck_set_iter() # or card.get_deck_set_iter()\n",
        "shuffle(cards)"
      ],
      "metadata": {
        "id": "d4XwXVm15H-I"
      },
      "execution_count": 112,
      "outputs": []
    },
    {
      "cell_type": "code",
      "source": [
        "print(cards)"
      ],
      "metadata": {
        "colab": {
          "base_uri": "https://localhost:8080/"
        },
        "id": "oSKRzWTt9Be1",
        "outputId": "d9ed3ccd-5a9b-4bb7-ec6e-ae0538d30a10"
      },
      "execution_count": 113,
      "outputs": [
        {
          "output_type": "stream",
          "name": "stdout",
          "text": [
            "[('spade', 'Q'), ('heart', '4'), ('spade', '6'), ('heart', '6'), ('club', 'A'), ('heart', '10'), ('club', '6'), ('diamond', '10'), ('diamond', 'Q'), ('diamond', '7'), ('spade', '9'), ('diamond', 'A'), ('spade', '10'), ('diamond', 'J'), ('club', '3'), ('spade', '7'), ('spade', '8'), ('heart', '2'), ('heart', 'Q'), ('heart', 'K'), ('club', '8'), ('club', '5'), ('club', 'K'), ('heart', '9'), ('spade', '4'), ('diamond', '6'), ('diamond', '3'), ('diamond', '4'), ('diamond', '5'), ('club', '9'), ('spade', '2'), ('heart', '3'), ('diamond', '2'), ('club', '10'), ('heart', '5'), ('club', 'Q'), ('diamond', 'K'), ('heart', 'J'), ('diamond', '8'), ('spade', '5'), ('spade', 'K'), ('spade', '3'), ('club', '4'), ('club', '7'), ('club', 'J'), ('heart', '7'), ('heart', 'A'), ('diamond', '9'), ('spade', 'A'), ('heart', '8'), ('club', '2'), ('spade', 'J')]\n"
          ]
        }
      ]
    },
    {
      "cell_type": "code",
      "source": [
        "def players_card(no_players:int = 3, no_player_cards:int = 5):\n",
        "  if len(cards) < (no_players * no_player_cards):\n",
        "    raise Exception('Insufficient Cards')\n",
        "\n",
        "  cards_per_player = [[] for i in range(no_players)]\n",
        "  for player in range(no_players):\n",
        "    for num in range(no_player_cards):\n",
        "      cards_per_player[player].append(cards.pop())\n",
        "  \n",
        "  return cards_per_player"
      ],
      "metadata": {
        "id": "ik07OMCl9IAP"
      },
      "execution_count": 114,
      "outputs": []
    },
    {
      "cell_type": "code",
      "source": [
        "players_card()"
      ],
      "metadata": {
        "id": "QkMzJvz_-ypX"
      },
      "execution_count": null,
      "outputs": []
    },
    {
      "cell_type": "code",
      "source": [
        "choice(cards)"
      ],
      "metadata": {
        "id": "e2kiwL4pACQp"
      },
      "execution_count": null,
      "outputs": []
    },
    {
      "cell_type": "code",
      "source": [
        "len(cards)"
      ],
      "metadata": {
        "id": "eeJWBlHv_e1O"
      },
      "execution_count": null,
      "outputs": []
    }
  ]
}