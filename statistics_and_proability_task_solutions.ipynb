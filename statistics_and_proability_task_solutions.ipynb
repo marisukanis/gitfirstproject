{
  "nbformat": 4,
  "nbformat_minor": 0,
  "metadata": {
    "colab": {
      "provenance": [],
      "collapsed_sections": [],
      "include_colab_link": true
    },
    "kernelspec": {
      "name": "python3",
      "display_name": "Python 3"
    },
    "language_info": {
      "name": "python"
    }
  },
  "cells": [
    {
      "cell_type": "markdown",
      "metadata": {
        "id": "view-in-github",
        "colab_type": "text"
      },
      "source": [
        "<a href=\"https://colab.research.google.com/github/marisukanis/gitfirstproject/blob/pythonproject1/statistics_and_proability_task_solutions.ipynb\" target=\"_parent\"><img src=\"https://colab.research.google.com/assets/colab-badge.svg\" alt=\"Open In Colab\"/></a>"
      ]
    },
    {
      "cell_type": "markdown",
      "metadata": {
        "id": "jAMhIt3C3G5B",
        "pycharm": {
          "name": "#%% md\n"
        }
      },
      "source": [
        "### Task 1\n"
      ]
    },
    {
      "cell_type": "markdown",
      "metadata": {
        "id": "-YUCJNngGVrL",
        "pycharm": {
          "name": "#%% md\n"
        }
      },
      "source": [
        "\n",
        "Create a numpy array with values ​​from 1 to 9, display and then invert this array (first element becomes last, etc.)."
      ]
    },
    {
      "cell_type": "code",
      "metadata": {
        "colab": {
          "base_uri": "https://localhost:8080/"
        },
        "id": "HrmNOpD01OKa",
        "outputId": "45286e69-c5e9-45a5-e897-9047f729b27a",
        "pycharm": {
          "name": "#%%\n"
        }
      },
      "source": [
        "import numpy as np\n",
        "\n",
        "a = np.arange(1, 10)\n",
        "print(a)\n",
        "print(a[::-1])"
      ],
      "execution_count": null,
      "outputs": [
        {
          "output_type": "stream",
          "name": "stdout",
          "text": [
            "[1 2 3 4 5 6 7 8 9]\n",
            "[9 8 7 6 5 4 3 2 1]\n"
          ]
        }
      ]
    },
    {
      "cell_type": "markdown",
      "metadata": {
        "id": "z5qVFPWSPgZw",
        "pycharm": {
          "name": "#%% md\n"
        }
      },
      "source": [
        "### Task 2"
      ]
    },
    {
      "cell_type": "markdown",
      "metadata": {
        "id": "iQsTQVzYPhnv",
        "pycharm": {
          "name": "#%% md\n"
        }
      },
      "source": [
        "Create the following numpy array: [1, 23, 4, 31, 1, 1, 4, 23, 4, 1]; and then list all the unique (non-repeating) elements."
      ]
    },
    {
      "cell_type": "code",
      "metadata": {
        "colab": {
          "base_uri": "https://localhost:8080/"
        },
        "id": "YnC903LDPkn0",
        "outputId": "76ace9d0-61a5-4035-f1f5-8dd88a929888",
        "pycharm": {
          "name": "#%%\n"
        }
      },
      "source": [
        "import numpy as np\n",
        "\n",
        "a = np.array([1, 23, 4, 31, 1, 1, 4, 23, 4, 1])\n",
        "print(a)\n",
        "print(np.unique(a))"
      ],
      "execution_count": null,
      "outputs": [
        {
          "output_type": "stream",
          "name": "stdout",
          "text": [
            "[ 1 23  4 31  1  1  4 23  4  1]\n",
            "[ 1  4 23 31]\n"
          ]
        }
      ]
    },
    {
      "cell_type": "markdown",
      "metadata": {
        "id": "aHTBVb_G3ODT",
        "pycharm": {
          "name": "#%% md\n"
        }
      },
      "source": [
        "### Task 3"
      ]
    },
    {
      "cell_type": "markdown",
      "metadata": {
        "id": "r3ElLaHKGbjY",
        "pycharm": {
          "name": "#%% md\n"
        }
      },
      "source": [
        "Create a 3x3 matrix (using reshape) with values ​​between 2 and 10."
      ]
    },
    {
      "cell_type": "code",
      "metadata": {
        "colab": {
          "base_uri": "https://localhost:8080/"
        },
        "id": "NJWjmweq09Q_",
        "outputId": "6723d237-83cc-4b4d-9b30-09eda4b5754e",
        "pycharm": {
          "name": "#%%\n"
        }
      },
      "source": [
        "import numpy as np\n",
        "\n",
        "a = np.arange(2, 11).reshape(3, 3)\n",
        "print(a)"
      ],
      "execution_count": null,
      "outputs": [
        {
          "output_type": "stream",
          "name": "stdout",
          "text": [
            "[[ 2  3  4]\n",
            " [ 5  6  7]\n",
            " [ 8  9 10]]\n"
          ]
        }
      ]
    },
    {
      "cell_type": "markdown",
      "metadata": {
        "id": "7DKQVzsSCDGi",
        "pycharm": {
          "name": "#%% md\n"
        }
      },
      "source": [
        "### Task 4"
      ]
    },
    {
      "cell_type": "markdown",
      "metadata": {
        "id": "JhiYzSNBGe2A",
        "pycharm": {
          "name": "#%% md\n"
        }
      },
      "source": [
        "\n",
        "Create an array with six random values ​​between 10 and 30."
      ]
    },
    {
      "cell_type": "code",
      "metadata": {
        "colab": {
          "base_uri": "https://localhost:8080/"
        },
        "id": "7MGxmEoqDuo6",
        "outputId": "9ac5991f-9f94-4762-aab5-e71f9fcabd51",
        "pycharm": {
          "name": "#%%\n"
        }
      },
      "source": [
        "import numpy as np\n",
        "\n",
        "a = np.random.randint(low=10, high=30, size=6)\n",
        "print(a)"
      ],
      "execution_count": null,
      "outputs": [
        {
          "output_type": "stream",
          "name": "stdout",
          "text": [
            "[10 10 13 22 17 28]\n"
          ]
        }
      ]
    },
    {
      "cell_type": "markdown",
      "metadata": {
        "id": "q_5F7qHpWvCD",
        "pycharm": {
          "name": "#%% md\n"
        }
      },
      "source": [
        "### Task 5"
      ]
    },
    {
      "cell_type": "markdown",
      "metadata": {
        "id": "EzfTFp00Wwmm",
        "pycharm": {
          "name": "#%% md\n"
        }
      },
      "source": [
        "From the array of values: [23, 45, 112, 150, 43, 254, 95, 8] filter those that are greater than 100."
      ]
    },
    {
      "cell_type": "code",
      "metadata": {
        "colab": {
          "base_uri": "https://localhost:8080/"
        },
        "id": "fl7brsiXXCqR",
        "outputId": "3c940988-a4fe-4046-f174-478d592f754d",
        "pycharm": {
          "name": "#%%\n"
        }
      },
      "source": [
        "import numpy as np\n",
        "\n",
        "a = np.array([23, 45, 112, 150, 43, 254, 95, 8])\n",
        "print(a)\n",
        "print(a[a > 100])\n",
        "print(a[np.where(a > 100)])"
      ],
      "execution_count": null,
      "outputs": [
        {
          "output_type": "stream",
          "name": "stdout",
          "text": [
            "[ 23  45 112 150  43 254  95   8]\n",
            "[112 150 254]\n",
            "[112 150 254]\n"
          ]
        }
      ]
    },
    {
      "cell_type": "markdown",
      "metadata": {
        "id": "P7C4QEXo3b8i",
        "pycharm": {
          "name": "#%% md\n"
        }
      },
      "source": [
        "### Task 6"
      ]
    },
    {
      "cell_type": "markdown",
      "metadata": {
        "id": "B9mlkSQ8GBHb",
        "pycharm": {
          "name": "#%% md\n"
        }
      },
      "source": [
        "Create the following 4x4 matrix, then:\n",
        "* display an item from the second row and third column,\n",
        "* calculate its determinant,\n",
        "* calculate its trace (sum of elements on the main diagonal),\n",
        "* find the largest and smallest element."
      ]
    },
    {
      "cell_type": "markdown",
      "metadata": {
        "id": "uE98qbG2GR-m",
        "pycharm": {
          "name": "#%% md\n"
        }
      },
      "source": [
        "$ \\begin{bmatrix}\n",
        "1 & 15 & 4 & 13 \\\\\n",
        "8 & 21 & 3 & 12 \\\\\n",
        "11 & 13 & 11 & 5 \\\\\n",
        "32 & 13 & 0 & 2 \n",
        "\\end{bmatrix}  $"
      ]
    },
    {
      "cell_type": "code",
      "metadata": {
        "colab": {
          "base_uri": "https://localhost:8080/"
        },
        "id": "7u10SyuxAzz9",
        "outputId": "1746261e-e9a7-4715-f05b-a4f841ed362d",
        "pycharm": {
          "name": "#%%\n"
        }
      },
      "source": [
        "import numpy as np\n",
        "\n",
        "a = np.array([[1, 15, 4, 13], [8, 21, 3, 12], [11, 13, 11, 5], [32, 13, 0, 2]])\n",
        "print(a[1][2])\n",
        "print(np.linalg.det(a))\n",
        "print(a.diagonal().sum())\n",
        "print(a.min(), a.max())"
      ],
      "execution_count": null,
      "outputs": [
        {
          "output_type": "stream",
          "name": "stdout",
          "text": [
            "3\n",
            "-19963.99999999999\n",
            "35\n",
            "0 32\n"
          ]
        }
      ]
    },
    {
      "cell_type": "markdown",
      "metadata": {
        "id": "gMzSWt44FaYF",
        "pycharm": {
          "name": "#%% md\n"
        }
      },
      "source": [
        "### Task 7\n",
        "\n"
      ]
    },
    {
      "cell_type": "markdown",
      "metadata": {
        "id": "yQWjHfoEIyrQ",
        "pycharm": {
          "name": "#%% md\n"
        }
      },
      "source": [
        "Create any array of values ​​and then calculate the mean and median."
      ]
    },
    {
      "cell_type": "code",
      "metadata": {
        "colab": {
          "base_uri": "https://localhost:8080/"
        },
        "id": "Wu369ZU4RuzM",
        "outputId": "009ee23d-d01c-4534-abf5-50144471128b",
        "pycharm": {
          "name": "#%%\n"
        }
      },
      "source": [
        "import numpy as np\n",
        "\n",
        "a = np.array([5, 4, 3, 5, 3.5, 2, 1.34, 8])\n",
        "print(a)\n",
        "print(np.mean(a))\n",
        "print(np.median(a))"
      ],
      "execution_count": null,
      "outputs": [
        {
          "output_type": "stream",
          "name": "stdout",
          "text": [
            "[5.   4.   3.   5.   3.5  2.   1.34 8.  ]\n",
            "3.98\n",
            "3.75\n"
          ]
        }
      ]
    },
    {
      "cell_type": "markdown",
      "metadata": {
        "id": "lneyzfeHR5Lm",
        "pycharm": {
          "name": "#%% md\n"
        }
      },
      "source": [
        "### Task 8"
      ]
    },
    {
      "cell_type": "markdown",
      "metadata": {
        "id": "EhRBqNRsR6tq",
        "pycharm": {
          "name": "#%% md\n"
        }
      },
      "source": [
        "Create any array of values ​​and then normalize them - i.e. subtract the mean from each element of the array and divide by the standard deviation."
      ]
    },
    {
      "cell_type": "code",
      "metadata": {
        "colab": {
          "base_uri": "https://localhost:8080/"
        },
        "id": "CK6OlGReSI5Q",
        "outputId": "6d5be41b-be6c-47bf-eb30-8460a8dbb924",
        "pycharm": {
          "name": "#%%\n"
        }
      },
      "source": [
        "import numpy as np\n",
        "\n",
        "a = np.array([5, 4, 3, 5, 3.5, 2, 1.34, 8])\n",
        "print(a)\n",
        "b = (a - np.mean(a)) / np.std(a)\n",
        "print(b)"
      ],
      "execution_count": null,
      "outputs": [
        {
          "output_type": "stream",
          "name": "stdout",
          "text": [
            "[5.   4.   3.   5.   3.5  2.   1.34 8.  ]\n",
            "[ 0.52391807  0.0102729  -0.50337227  0.52391807 -0.24654968 -1.01701743\n",
            " -1.35602324  2.06485358]\n"
          ]
        }
      ]
    },
    {
      "cell_type": "markdown",
      "metadata": {
        "id": "8DQaaoGLSjs8",
        "pycharm": {
          "name": "#%% md\n"
        }
      },
      "source": [
        "### Task 9"
      ]
    },
    {
      "cell_type": "markdown",
      "metadata": {
        "id": "BvdHNDJmSlha",
        "pycharm": {
          "name": "#%% md\n"
        }
      },
      "source": [
        "Create a function that takes two vectors (both of the same dimension) as a numpy array and returns the Euclidean distance between them."
      ]
    },
    {
      "cell_type": "markdown",
      "metadata": {
        "id": "EpjaMU7aTvZW",
        "pycharm": {
          "name": "#%% md\n"
        }
      },
      "source": [
        " $ d\\left( p,q\\right)   = \\sqrt {\\sum _{i=1}^{n}  \\left( q_{i}-p_{i}\\right)^2 } $"
      ]
    },
    {
      "cell_type": "code",
      "metadata": {
        "colab": {
          "base_uri": "https://localhost:8080/"
        },
        "id": "tsQ1BHpASzz8",
        "outputId": "62698449-f6f5-4435-aade-3c572a91b211",
        "pycharm": {
          "name": "#%%\n"
        }
      },
      "source": [
        "def distance1(v1, v2):\n",
        "    return np.sqrt(np.sum((v1 - v2) ** 2))\n",
        "\n",
        "\n",
        "def distance2(v1, v2):\n",
        "    return np.linalg.norm(v1 - v2)\n",
        "\n",
        "\n",
        "a = np.array([1, 0, 1, 2, 3])\n",
        "b = np.array([1, 2, -1, 0, 0])\n",
        "print(distance1(a, b))\n",
        "print(distance2(a, b))"
      ],
      "execution_count": null,
      "outputs": [
        {
          "output_type": "stream",
          "name": "stdout",
          "text": [
            "4.58257569495584\n",
            "4.58257569495584\n"
          ]
        }
      ]
    },
    {
      "cell_type": "markdown",
      "metadata": {
        "id": "sLRG0TeXVU17",
        "pycharm": {
          "name": "#%% md\n"
        }
      },
      "source": [
        "### Task 10"
      ]
    },
    {
      "cell_type": "markdown",
      "metadata": {
        "id": "xYZJuil8eZiu",
        "pycharm": {
          "name": "#%% md\n"
        }
      },
      "source": [
        "Using the Shapiro-Wilk test, check whether the given sample has a normal distribution: [0.873, 2.817, 0.121, -0.945, -0.055, -1.436, 0.360, -1.478, -1.637, -1.869]\n"
      ]
    },
    {
      "cell_type": "code",
      "metadata": {
        "colab": {
          "base_uri": "https://localhost:8080/"
        },
        "id": "HqAFlwmYeZv3",
        "outputId": "1b752184-61a5-4ef3-91f4-d3ea11f892fb",
        "pycharm": {
          "name": "#%%\n"
        }
      },
      "source": [
        "from scipy.stats import shapiro\n",
        "\n",
        "data = np.array([0.873, 2.817, 0.121, -0.945, -0.055, -1.436, 0.360, -1.478, -1.637, -1.869])\n",
        "stat, p = shapiro(data)\n",
        "print(stat, p)\n",
        "\n",
        "if p > 0.05:\n",
        "\t  print(\"Rozkład normalny\")\n",
        "else:\n",
        "\t  print(\"Rozkład oddalony od krzywej Gaussa\")"
      ],
      "execution_count": null,
      "outputs": [
        {
          "output_type": "stream",
          "name": "stdout",
          "text": [
            "0.8951009511947632 0.19340917468070984\n",
            "Rozkład normalny\n"
          ]
        }
      ]
    }
  ]
}