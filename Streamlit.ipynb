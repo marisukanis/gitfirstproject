{
  "nbformat": 4,
  "nbformat_minor": 0,
  "metadata": {
    "colab": {
      "provenance": [],
      "collapsed_sections": [],
      "include_colab_link": true
    },
    "kernelspec": {
      "name": "python3",
      "display_name": "Python 3"
    },
    "language_info": {
      "name": "python"
    }
  },
  "cells": [
    {
      "cell_type": "markdown",
      "metadata": {
        "id": "view-in-github",
        "colab_type": "text"
      },
      "source": [
        "<a href=\"https://colab.research.google.com/github/marisukanis/gitfirstproject/blob/main/Streamlit.ipynb\" target=\"_parent\"><img src=\"https://colab.research.google.com/assets/colab-badge.svg\" alt=\"Open In Colab\"/></a>"
      ]
    },
    {
      "cell_type": "code",
      "source": [
        "# package setup\n",
        "!pip install streamlit\n",
        "!npm install localtunnel"
      ],
      "metadata": {
        "id": "Tha-qU9t5T9X"
      },
      "execution_count": null,
      "outputs": []
    },
    {
      "cell_type": "code",
      "source": [
        "%%writefile app.py\n",
        "import streamlit as st\n",
        "import pandas as pd\n",
        "import numpy as np\n",
        "import matplotlib.pyplot as plt\n",
        "import seaborn as sns\n",
        "#streamlit run filename.py - way to run it\n",
        "\n",
        "st.title('Hello world')\n",
        "#st.write('Description for this future visualization')\n",
        "\n",
        "#var1 = st.text_input('Please enter some text')\n",
        "#st.write('Hello ' + var1)\n",
        "#st.write('Hello {}!'.format(var1))\n",
        "\n",
        "#var2 = st.select_slider('Choose wine class', options=['one', 'two', 'three'])\n",
        "\n",
        "data = pd.read_csv('wine.csv')\n",
        "\n",
        "with st.sidebar:\n",
        "    var3 = st.selectbox('Choose wine class', options=['one', 'two', 'three'])\n",
        "    st.write('Choose the variables for the Scatter Plot')\n",
        "    var1 = st.selectbox('Choose 1st variable', options=list(data.columns))\n",
        "    var2 = st.selectbox('Choose 2nd variable', options=list(data.columns))\n",
        "\n",
        "st.table(data[data['Class'] == var3])\n",
        "\n",
        "#st.write(df.columns) - when you get an index error\n",
        "\n",
        "tabs = ['Scatter', 'Correlation Matrix']\n",
        "tab1, tab2 = st.tabs(tabs)\n",
        "\n",
        "\n",
        "df = (data[data['Class'] == var3])\n",
        "\n",
        "with tab1:\n",
        "    fig, ax = plt.subplots()\n",
        "    ax.scatter(df[var1], df[var2])\n",
        "    ax.set_xlabel('Volume of Alcohol')\n",
        "    ax.set_ylabel('Magnesium')\n",
        "    st.pyplot(fig)\n",
        "\n",
        "fig1 = plt.figure(figsize=(10,10))\n",
        "sns.lmplot(x = 'Alcohol', y = 'Magnesium', data = df)\n",
        "st.pyplot(fig1)\n",
        "\n",
        "with tab2:\n",
        "    corr = df.corr()\n",
        "    fig2 = plt.figure(figsize=(10,10)) \n",
        "    sns.heatmap(corr, annot=True, linewidths = 5, annot_kws= {'size': 8})\n",
        "    st.pyplot(fig2)\n",
        "                        "
      ],
      "metadata": {
        "colab": {
          "base_uri": "https://localhost:8080/"
        },
        "id": "EIXucSBS5vyc",
        "outputId": "e69a0351-9a68-455c-e502-36eb5e2e78aa"
      },
      "execution_count": 50,
      "outputs": [
        {
          "output_type": "stream",
          "name": "stdout",
          "text": [
            "Overwriting app.py\n"
          ]
        }
      ]
    },
    {
      "cell_type": "code",
      "source": [
        "# booting server\n",
        "!streamlit run /content/app.py &>/content/logs.txt &\n",
        "!npx localtunnel --port 8501"
      ],
      "metadata": {
        "id": "U3dbQg-N5zXZ",
        "outputId": "e1502b78-fa6b-4a48-aabb-4bf9e9d879c1",
        "colab": {
          "base_uri": "https://localhost:8080/"
        }
      },
      "execution_count": null,
      "outputs": [
        {
          "output_type": "stream",
          "name": "stdout",
          "text": [
            "\u001b[K\u001b[?25hnpx: installed 22 in 2.717s\n",
            "your url is: https://quiet-phones-sort-34-122-155-26.loca.lt\n"
          ]
        }
      ]
    }
  ]
}